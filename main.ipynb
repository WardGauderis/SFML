{
 "cells": [
  {
   "cell_type": "markdown",
   "source": [
    "# SFML Project\n",
    "\n",
    "Ward Gauderis - 0588485\n",
    "Fabian Denoodt - TODO\n",
    "\n",
    "Master Computer Science in Artificial Intelligence - Vrije Universiteit Brussel"
   ],
   "metadata": {
    "collapsed": false,
    "pycharm": {
     "name": "#%% md\n"
    }
   }
  },
  {
   "cell_type": "markdown",
   "source": [
    "## Introduction\n",
    "\n",
    "1. What is the influence of noise in the training data on the in- and out-of-sample error and how does regularization counter this?\n",
    "2. b\n",
    "3. c"
   ],
   "metadata": {
    "collapsed": false,
    "pycharm": {
     "name": "#%% md\n"
    }
   }
  },
  {
   "cell_type": "markdown",
   "source": [
    "#### Initialization"
   ],
   "metadata": {
    "collapsed": false,
    "pycharm": {
     "name": "#%% md\n"
    }
   }
  },
  {
   "cell_type": "code",
   "execution_count": null,
   "outputs": [],
   "source": [
    "import numpy as np\n",
    "from matplotlib import pyplot as plt\n",
    "from sklearn.datasets import make_circles\n",
    "from sklearn.model_selection import train_test_split\n",
    "from sklearn.neural_network import MLPClassifier\n",
    "from sklearn.pipeline import make_pipeline\n",
    "from sklearn.preprocessing import StandardScaler\n",
    "\n",
    "cmap = plt.cm.RdBu_r\n",
    "\n",
    "\n",
    "def scales(X, ax):\n",
    "    length_x = X[:, 0].max() - X[:, 0].min()\n",
    "    length_y = X[:, 1].max() - X[:, 1].min()\n",
    "    x_min, x_max = X[:, 0].min() - length_x / 8, X[:, 0].max() + length_x / 8\n",
    "    y_min, y_max = X[:, 1].min() - length_y / 8, X[:, 1].max() + length_y / 8\n",
    "\n",
    "    x_min = -2\n",
    "    x_max = 2\n",
    "    y_min = -2\n",
    "    y_max = 2\n",
    "\n",
    "    ax.set_xlim(x_min, x_max)\n",
    "    ax.set_ylim(y_min, y_max)\n",
    "    ax.set_xticks(())\n",
    "    ax.set_yticks(())\n",
    "    ax.set_aspect(\"equal\")\n",
    "\n",
    "    return x_min, x_max, y_min, y_max\n",
    "\n",
    "\n",
    "def plot_points(X, y, ax):\n",
    "    scales(X, ax)\n",
    "    ax.scatter(X[:, 0], X[:, 1], c=y, cmap=cmap, s=20)\n",
    "\n",
    "\n",
    "def plot_decision_boundaries(X, y, ax: plt.Axes, model: MLPClassifier, resolution=0.02, decision=False):\n",
    "    x_min, x_max, y_min, y_max = scales(X, ax)\n",
    "\n",
    "    xx, yy = np.meshgrid(np.arange(x_min, x_max, resolution), np.arange(y_min, y_max, resolution))\n",
    "    if decision:\n",
    "        Z = model.predict(np.c_[xx.ravel(), yy.ravel()]).reshape(xx.shape)\n",
    "    else:\n",
    "        Z = model.predict_proba(np.c_[xx.ravel(), yy.ravel()])[:, 1].reshape(xx.shape)\n",
    "\n",
    "    ax.contourf(xx, yy, Z, cmap=cmap, alpha=0.4)\n",
    "    ax.scatter(X[:, 0], X[:, 1], c=y, alpha=0.8, cmap=cmap, s=2)\n",
    "\n",
    "    return ax"
   ],
   "metadata": {
    "collapsed": false,
    "pycharm": {
     "name": "#%%\n"
    }
   }
  },
  {
   "cell_type": "markdown",
   "source": [
    "## Research Question 1\n",
    "\n",
    "Data noise & label noise"
   ],
   "metadata": {
    "collapsed": false,
    "pycharm": {
     "name": "#%% md\n"
    }
   }
  },
  {
   "cell_type": "code",
   "execution_count": null,
   "outputs": [],
   "source": [
    "X, y = make_circles(n_samples=1000, noise=0.1, factor=0.2)\n",
    "\n",
    "model = MLPClassifier(activation=\"tanh\", solver=\"adam\", hidden_layer_sizes=(10,),\n",
    "                      max_iter=10000, random_state=0, verbose=False)\n",
    "model.fit(X, y)\n",
    "plot_decision_boundaries(X, y, plt.subplot(), model)"
   ],
   "metadata": {
    "collapsed": false,
    "pycharm": {
     "name": "#%%\n"
    }
   }
  },
  {
   "cell_type": "code",
   "execution_count": null,
   "outputs": [],
   "source": [
    "models = []\n",
    "alphas = np.linspace(0, 1, 13)\n",
    "for alpha in alphas:\n",
    "    models.append(\n",
    "        (make_pipeline(StandardScaler(), MLPClassifier(\n",
    "            activation=\"relu\",\n",
    "            hidden_layer_sizes=(10,),\n",
    "            max_iter=1000,\n",
    "            random_state=0,\n",
    "            alpha=alpha\n",
    "        )), alpha)\n",
    "    )"
   ],
   "metadata": {
    "collapsed": false,
    "pycharm": {
     "name": "#%%\n"
    }
   }
  },
  {
   "cell_type": "code",
   "execution_count": null,
   "outputs": [],
   "source": [
    "datasets = []\n",
    "noises = np.linspace(0, 1, 13)\n",
    "for noise in noises:\n",
    "    datasets.append((make_circles(500, random_state=0, noise=noise, factor=0.2), noise))"
   ],
   "metadata": {
    "collapsed": false,
    "pycharm": {
     "name": "#%%\n"
    }
   }
  },
  {
   "cell_type": "code",
   "execution_count": null,
   "outputs": [],
   "source": [
    "k = 6\n",
    "\n",
    "i = 1\n",
    "plt.figure(figsize=((len(datasets) // k + 2) * 3, ((len(models)) // k + 1) * 3))\n",
    "train_scores = []\n",
    "test_scores = []\n",
    "for a, ((X, y), noise) in enumerate(datasets):\n",
    "    X_train, X_test, y_train, y_test = train_test_split(X, y, random_state=0)\n",
    "\n",
    "    if a % k == 0:\n",
    "        ax: plt.Axes = plt.subplot(len(datasets) // k + 1, len(models) // k + 2, i)\n",
    "        i += 1\n",
    "        plot_points(X, y, ax)\n",
    "        ax.set_ylabel(f\"noise: {noise}\", fontsize=15)\n",
    "\n",
    "    for b, (model, alpha) in enumerate(models):\n",
    "        print(f\"{a}/{len(datasets)} {b}/{len(models)}\", end=\"\\r\")\n",
    "        model.fit(X_train, y_train)\n",
    "        train_scores.append(model.score(X_train, y_train))\n",
    "        test_scores.append(model.score(X_test, y_test))\n",
    "\n",
    "        if a % k == 0 and b % k == 0:\n",
    "            ax: plt.Axes = plt.subplot(len(datasets) // k + 1, len(models) // k + 2, i)\n",
    "            plot_decision_boundaries(X, y, ax, model)\n",
    "            if a == 0:\n",
    "                ax.set_title(f\"regularisation: {alpha}\", fontsize=15)\n",
    "            i += 1\n",
    "\n",
    "plt.show()"
   ],
   "metadata": {
    "collapsed": false,
    "pycharm": {
     "name": "#%%\n"
    }
   }
  },
  {
   "cell_type": "code",
   "execution_count": null,
   "outputs": [],
   "source": [
    "xx, yy = np.meshgrid(alphas, noises)\n",
    "\n",
    "plt.figure(figsize=(3 * 4, 2 * 4))\n",
    "i = 1\n",
    "for data in [test_scores, train_scores]:\n",
    "    ax: plt.Axes = plt.subplot(1, 2, i)\n",
    "    c = ax.contourf(xx, yy, np.reshape(data, xx.shape), cmap=cmap)\n",
    "    ax.set_aspect(\"equal\")\n",
    "    ax.invert_yaxis()\n",
    "    ax.xaxis.tick_top()\n",
    "    i += 1\n",
    "\n",
    "plt.colorbar(c, ax=plt.gcf().axes, orientation=\"horizontal\")\n",
    "plt.show()"
   ],
   "metadata": {
    "collapsed": false,
    "pycharm": {
     "name": "#%%\n"
    }
   }
  },
  {
   "cell_type": "markdown",
   "source": [
    "## Research Question 2"
   ],
   "metadata": {
    "collapsed": false,
    "pycharm": {
     "name": "#%% md\n"
    }
   }
  },
  {
   "cell_type": "markdown",
   "source": [
    "\n",
    "## Research Question 3"
   ],
   "metadata": {
    "collapsed": false,
    "pycharm": {
     "name": "#%% md\n"
    }
   }
  },
  {
   "cell_type": "markdown",
   "source": [
    "## Conclusion"
   ],
   "metadata": {
    "collapsed": false,
    "pycharm": {
     "name": "#%% md\n"
    }
   }
  },
  {
   "cell_type": "markdown",
   "source": [],
   "metadata": {
    "collapsed": false,
    "pycharm": {
     "name": "#%% md\n"
    }
   }
  },
  {
   "cell_type": "code",
   "execution_count": null,
   "outputs": [],
   "source": [],
   "metadata": {
    "collapsed": false,
    "pycharm": {
     "name": "#%%\n"
    }
   }
  },
  {
   "cell_type": "markdown",
   "source": [
    "## Introduction\n",
    "\n",
    "1. What is the influence of noise in the training data on the in- and out-of-sample error and how does regularization counter this?\n",
    "2. b\n",
    "3. c"
   ],
   "metadata": {
    "collapsed": false,
    "pycharm": {
     "name": "#%% md\n"
    }
   }
  },
  {
   "cell_type": "markdown",
   "source": [
    "#### Initialization"
   ],
   "metadata": {
    "collapsed": false,
    "pycharm": {
     "name": "#%% md\n"
    }
   }
  },
  {
   "cell_type": "code",
   "execution_count": null,
   "outputs": [],
   "source": [
    "import numpy as np\n",
    "from matplotlib import pyplot as plt\n",
    "from sklearn.datasets import make_circles\n",
    "from sklearn.model_selection import train_test_split\n",
    "from sklearn.neural_network import MLPClassifier\n",
    "from sklearn.pipeline import make_pipeline\n",
    "from sklearn.preprocessing import StandardScaler\n",
    "\n",
    "cmap = plt.cm.RdBu_r\n",
    "\n",
    "\n",
    "def scales(X, ax):\n",
    "    length_x = X[:, 0].max() - X[:, 0].min()\n",
    "    length_y = X[:, 1].max() - X[:, 1].min()\n",
    "    x_min, x_max = X[:, 0].min() - length_x / 8, X[:, 0].max() + length_x / 8\n",
    "    y_min, y_max = X[:, 1].min() - length_y / 8, X[:, 1].max() + length_y / 8\n",
    "\n",
    "    x_min = -2\n",
    "    x_max = 2\n",
    "    y_min = -2\n",
    "    y_max = 2\n",
    "\n",
    "    ax.set_xlim(x_min, x_max)\n",
    "    ax.set_ylim(y_min, y_max)\n",
    "    ax.set_xticks(())\n",
    "    ax.set_yticks(())\n",
    "    ax.set_aspect(\"equal\")\n",
    "\n",
    "    return x_min, x_max, y_min, y_max\n",
    "\n",
    "\n",
    "def plot_points(X, y, ax):\n",
    "    scales(X, ax)\n",
    "    ax.scatter(X[:, 0], X[:, 1], c=y, cmap=cmap, s=20)\n",
    "\n",
    "\n",
    "def plot_decision_boundaries(X, y, ax: plt.Axes, model: MLPClassifier, resolution=0.02, decision=False):\n",
    "    x_min, x_max, y_min, y_max = scales(X, ax)\n",
    "\n",
    "    xx, yy = np.meshgrid(np.arange(x_min, x_max, resolution), np.arange(y_min, y_max, resolution))\n",
    "    if decision:\n",
    "        Z = model.predict(np.c_[xx.ravel(), yy.ravel()]).reshape(xx.shape)\n",
    "    else:\n",
    "        Z = model.predict_proba(np.c_[xx.ravel(), yy.ravel()])[:, 1].reshape(xx.shape)\n",
    "\n",
    "    ax.contourf(xx, yy, Z, cmap=cmap, alpha=0.4)\n",
    "    ax.scatter(X[:, 0], X[:, 1], c=y, alpha=0.8, cmap=cmap, s=2)\n",
    "\n",
    "    return ax"
   ],
   "metadata": {
    "collapsed": false,
    "pycharm": {
     "name": "#%%\n"
    }
   }
  },
  {
   "cell_type": "markdown",
   "source": [
    "## Research Question 1\n",
    "\n",
    "Data noise & label noise"
   ],
   "metadata": {
    "collapsed": false,
    "pycharm": {
     "name": "#%% md\n"
    }
   }
  },
  {
   "cell_type": "code",
   "execution_count": null,
   "outputs": [],
   "source": [
    "X, y = make_circles(n_samples=1000, noise=0.1, factor=0.2)\n",
    "\n",
    "model = MLPClassifier(activation=\"tanh\", solver=\"adam\", hidden_layer_sizes=(10,),\n",
    "                      max_iter=10000, random_state=0, verbose=False)\n",
    "model.fit(X, y)\n",
    "plot_decision_boundaries(X, y, plt.subplot(), model)"
   ],
   "metadata": {
    "collapsed": false,
    "pycharm": {
     "name": "#%%\n"
    }
   }
  },
  {
   "cell_type": "code",
   "execution_count": null,
   "outputs": [],
   "source": [
    "models = []\n",
    "alphas = np.linspace(0, 1, 13)\n",
    "for alpha in alphas:\n",
    "    models.append(\n",
    "        (make_pipeline(StandardScaler(), MLPClassifier(\n",
    "            activation=\"relu\",\n",
    "            hidden_layer_sizes=(10,),\n",
    "            max_iter=1000,\n",
    "            random_state=0,\n",
    "            alpha=alpha\n",
    "        )), alpha)\n",
    "    )"
   ],
   "metadata": {
    "collapsed": false,
    "pycharm": {
     "name": "#%%\n"
    }
   }
  },
  {
   "cell_type": "code",
   "execution_count": null,
   "outputs": [],
   "source": [
    "datasets = []\n",
    "noises = np.linspace(0, 1, 13)\n",
    "for noise in noises:\n",
    "    datasets.append((make_circles(500, random_state=0, noise=noise, factor=0.2), noise))"
   ],
   "metadata": {
    "collapsed": false,
    "pycharm": {
     "name": "#%%\n"
    }
   }
  },
  {
   "cell_type": "code",
   "execution_count": null,
   "outputs": [],
   "source": [
    "k = 6\n",
    "\n",
    "i = 1\n",
    "plt.figure(figsize=((len(datasets) // k + 2) * 3, ((len(models)) // k + 1) * 3))\n",
    "train_scores = []\n",
    "test_scores = []\n",
    "for a, ((X, y), noise) in enumerate(datasets):\n",
    "    X_train, X_test, y_train, y_test = train_test_split(X, y, random_state=0)\n",
    "\n",
    "    if a % k == 0:\n",
    "        ax: plt.Axes = plt.subplot(len(datasets) // k + 1, len(models) // k + 2, i)\n",
    "        i += 1\n",
    "        plot_points(X, y, ax)\n",
    "        ax.set_ylabel(f\"noise: {noise}\", fontsize=15)\n",
    "\n",
    "    for b, (model, alpha) in enumerate(models):\n",
    "        print(f\"{a}/{len(datasets)} {b}/{len(models)}\", end=\"\\r\")\n",
    "        model.fit(X_train, y_train)\n",
    "        train_scores.append(model.score(X_train, y_train))\n",
    "        test_scores.append(model.score(X_test, y_test))\n",
    "\n",
    "        if a % k == 0 and b % k == 0:\n",
    "            ax: plt.Axes = plt.subplot(len(datasets) // k + 1, len(models) // k + 2, i)\n",
    "            plot_decision_boundaries(X, y, ax, model)\n",
    "            if a == 0:\n",
    "                ax.set_title(f\"regularisation: {alpha}\", fontsize=15)\n",
    "            i += 1\n",
    "\n",
    "plt.show()"
   ],
   "metadata": {
    "collapsed": false,
    "pycharm": {
     "name": "#%%\n"
    }
   }
  },
  {
   "cell_type": "code",
   "execution_count": null,
   "outputs": [],
   "source": [
    "xx, yy = np.meshgrid(alphas, noises)\n",
    "\n",
    "plt.figure(figsize=(3 * 4, 2 * 4))\n",
    "i = 1\n",
    "for data in [test_scores, train_scores]:\n",
    "    ax: plt.Axes = plt.subplot(1, 2, i)\n",
    "    c = ax.contourf(xx, yy, np.reshape(data, xx.shape), cmap=cmap)\n",
    "    ax.set_aspect(\"equal\")\n",
    "    ax.invert_yaxis()\n",
    "    ax.xaxis.tick_top()\n",
    "    i += 1\n",
    "\n",
    "plt.colorbar(c, ax=plt.gcf().axes, orientation=\"horizontal\")\n",
    "plt.show()"
   ],
   "metadata": {
    "collapsed": false,
    "pycharm": {
     "name": "#%%\n"
    }
   }
  },
  {
   "cell_type": "markdown",
   "source": [
    "## Research Question 2"
   ],
   "metadata": {
    "collapsed": false,
    "pycharm": {
     "name": "#%% md\n"
    }
   }
  },
  {
   "cell_type": "markdown",
   "source": [
    "\n",
    "## Research Question 3"
   ],
   "metadata": {
    "collapsed": false,
    "pycharm": {
     "name": "#%% md\n"
    }
   }
  },
  {
   "cell_type": "markdown",
   "source": [
    "## Conclusion"
   ],
   "metadata": {
    "collapsed": false,
    "pycharm": {
     "name": "#%% md\n"
    }
   }
  },
  {
   "cell_type": "markdown",
   "source": [],
   "metadata": {
    "collapsed": false,
    "pycharm": {
     "name": "#%% md\n"
    }
   }
  },
  {
   "cell_type": "code",
   "execution_count": null,
   "outputs": [],
   "source": [],
   "metadata": {
    "collapsed": false,
    "pycharm": {
     "name": "#%%\n"
    }
   }
  }
 ],
 "metadata": {
  "kernelspec": {
   "display_name": "Python 3",
   "language": "python",
   "name": "python3"
  },
  "language_info": {
   "codemirror_mode": {
    "name": "ipython",
    "version": 3
   },
   "file_extension": ".py",
   "mimetype": "text/x-python",
   "name": "python",
   "nbconvert_exporter": "python",
   "pygments_lexer": "ipython3",
   "version": "3.10.4"
  }
 },
 "nbformat": 4,
 "nbformat_minor": 1
}